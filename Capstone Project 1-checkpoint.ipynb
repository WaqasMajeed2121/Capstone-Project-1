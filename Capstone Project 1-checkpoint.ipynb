{
 "cells": [
  {
   "cell_type": "code",
   "execution_count": 1,
   "id": "60557af1",
   "metadata": {},
   "outputs": [
    {
     "ename": "FileNotFoundError",
     "evalue": "[WinError 3] The system cannot find the path specified: '../input'",
     "output_type": "error",
     "traceback": [
      "\u001b[1;31m---------------------------------------------------------------------------\u001b[0m",
      "\u001b[1;31mFileNotFoundError\u001b[0m                         Traceback (most recent call last)",
      "\u001b[1;32m<ipython-input-1-cf2c423886dc>\u001b[0m in \u001b[0;36m<module>\u001b[1;34m\u001b[0m\n\u001b[0;32m      8\u001b[0m \u001b[1;33m\u001b[0m\u001b[0m\n\u001b[0;32m      9\u001b[0m \u001b[1;32mimport\u001b[0m \u001b[0mos\u001b[0m\u001b[1;33m\u001b[0m\u001b[1;33m\u001b[0m\u001b[0m\n\u001b[1;32m---> 10\u001b[1;33m \u001b[0mprint\u001b[0m\u001b[1;33m(\u001b[0m\u001b[0mos\u001b[0m\u001b[1;33m.\u001b[0m\u001b[0mlistdir\u001b[0m\u001b[1;33m(\u001b[0m\u001b[1;34m\"../input\"\u001b[0m\u001b[1;33m)\u001b[0m\u001b[1;33m)\u001b[0m\u001b[1;33m\u001b[0m\u001b[1;33m\u001b[0m\u001b[0m\n\u001b[0m\u001b[0;32m     11\u001b[0m \u001b[1;33m\u001b[0m\u001b[0m\n\u001b[0;32m     12\u001b[0m \u001b[1;31m# Any results you write to the current directory are saved as output.\u001b[0m\u001b[1;33m\u001b[0m\u001b[1;33m\u001b[0m\u001b[1;33m\u001b[0m\u001b[0m\n",
      "\u001b[1;31mFileNotFoundError\u001b[0m: [WinError 3] The system cannot find the path specified: '../input'"
     ]
    }
   ],
   "source": [
    "#Importing python libraries \n",
    "\n",
    "import numpy as np # linear algebra\n",
    "import pandas as pd # data processing, CSV file I/O (e.g. pd.read_csv)\n",
    "\n",
    "# Input data files are available in the \"../input/\" directory.\n",
    "# For example, running this (by clicking run or pressing Shift+Enter) will list the files in the input directory\n",
    "\n",
    "import os\n",
    "print(os.listdir(\"../input\"))\n",
    "\n",
    "# Any results you write to the current directory are saved as output."
   ]
  },
  {
   "cell_type": "code",
   "execution_count": null,
   "id": "4fa6ea22",
   "metadata": {},
   "outputs": [],
   "source": [
    "df = pd.read_csv('../input/gld_price_data.csv')"
   ]
  },
  {
   "cell_type": "code",
   "execution_count": null,
   "id": "1e589084",
   "metadata": {},
   "outputs": [],
   "source": [
    "#Lets have a quick look of dataset\n",
    "df.info()"
   ]
  },
  {
   "cell_type": "code",
   "execution_count": null,
   "id": "2b6c25ae",
   "metadata": {},
   "outputs": [],
   "source": [
    "#Clearly we see there is no null value in the dataset\n",
    "#Lets study the Statistical Inferance of the dataset\n",
    "df.describe()"
   ]
  },
  {
   "cell_type": "code",
   "execution_count": null,
   "id": "9ed54b5f",
   "metadata": {},
   "outputs": [],
   "source": [
    "#Now see the correlation matrix and heatmap\n",
    "import matplotlib.pyplot as plt\n",
    "import seaborn as sns\n",
    "corr = df.corr()\n",
    "plt.figure(figsize = (6,5))\n",
    "sns.heatmap(corr,\n",
    "            xticklabels=corr.columns.values,\n",
    "            yticklabels=corr.columns.values,\n",
    "            annot=True,fmt='.2f',linewidths=0.30)\n",
    "plt.title('Correlation of df Features', y = 1.05, size=15)"
   ]
  },
  {
   "cell_type": "code",
   "execution_count": null,
   "id": "aa2062f9",
   "metadata": {},
   "outputs": [],
   "source": [
    "#Lets look the correlation score\n",
    "print (corr['GLD'].sort_values(ascending=False), '\\n')\n"
   ]
  },
  {
   "cell_type": "code",
   "execution_count": null,
   "id": "68229224",
   "metadata": {},
   "outputs": [],
   "source": [
    "#Lets Check our target variable\n",
    "sns.distplot(df['GLD'], color = 'blue')\n",
    "print('Skewness: %f', df['GLD'].skew())\n",
    "print(\"Kurtosis: %f\" % df['GLD'].kurt())"
   ]
  },
  {
   "cell_type": "code",
   "execution_count": null,
   "id": "12ced334",
   "metadata": {},
   "outputs": [],
   "source": [
    "#Now we check the relation with GLD variable\n",
    "sns.jointplot(x =df['SLV'], y = df['GLD'], color = 'deeppink')"
   ]
  },
  {
   "cell_type": "code",
   "execution_count": null,
   "id": "b47b2268",
   "metadata": {},
   "outputs": [],
   "source": [
    "#Now we check the relation with GLD variable\n",
    "sns.jointplot(x =df['SPX'], y = df['GLD'], color = 'purple')"
   ]
  },
  {
   "cell_type": "code",
   "execution_count": null,
   "id": "66ff886b",
   "metadata": {},
   "outputs": [],
   "source": [
    "#Now Lets create a ml model\n",
    "# Now lets take our matrix of feature and target\n",
    "x_trail = df[['SPX','USO','SLV','EUR/USD']]\n",
    "x = x_trail.iloc[:, :].values\n",
    "y = df.iloc[:, 2].values"
   ]
  },
  {
   "cell_type": "code",
   "execution_count": null,
   "id": "5f703dbe",
   "metadata": {},
   "outputs": [],
   "source": [
    "#Spliting the dataset into training and test set\n",
    "from sklearn.model_selection import train_test_split\n",
    "x_train, x_test, y_train, y_test = train_test_split(x, y, test_size = 0.2, random_state = 0"
   ]
  },
  {
   "cell_type": "code",
   "execution_count": null,
   "id": "21e04fcf",
   "metadata": {},
   "outputs": [],
   "source": [
    "#Now fitting the Random forest regression to the traning set\n",
    "from sklearn.ensemble import RandomForestRegressor\n",
    "regressor = RandomForestRegressor(n_estimators = 100, random_state = 0)\n",
    "regressor.fit(x_train, y_train)"
   ]
  },
  {
   "cell_type": "code",
   "execution_count": null,
   "id": "00372695",
   "metadata": {},
   "outputs": [],
   "source": [
    "#Now predicting the test set result\n",
    "y_pred = regressor.predict(x_test)"
   ]
  },
  {
   "cell_type": "code",
   "execution_count": null,
   "id": "3583824b",
   "metadata": {},
   "outputs": [],
   "source": [
    "#Now Check the error for regression\n",
    "from sklearn import metrics\n",
    "print('MAE :',\" \", metrics.mean_absolute_error(y_test,y_pred))\n",
    "print('MSE :',\" \", metrics.mean_squared_error(y_test,y_pred))\n",
    "print('RMAE :',\" \", np.sqrt(metrics.mean_squared_error(y_test,y_pred))"
   ]
  },
  {
   "cell_type": "code",
   "execution_count": null,
   "id": "03edbc97",
   "metadata": {},
   "outputs": [],
   "source": [
    "#Now Lets Check the Training and Test set Accuracy\n",
    "accuracy_train = regressor.score(x_train, y_train)\n",
    "accuracy_test = regressor.score(x_test, y_test)\n",
    "print(accuracy_train)\n",
    "print(accuracy_test)"
   ]
  },
  {
   "cell_type": "code",
   "execution_count": null,
   "id": "bbb46787",
   "metadata": {},
   "outputs": [],
   "source": [
    "#Visualising the Accuracy of Predicted result\n",
    "plt.plot(y_test, color = 'blue', label = 'Acutal')\n",
    "plt.plot(y_pred, color = 'deeppink', label = 'Predicted')\n",
    "plt.grid(0.3)\n",
    "plt.title('Acutal vs Predicted')\n",
    "plt.xlabel('Number of Oberservation')\n",
    "plt.ylabel('GLD')\n",
    "plt.legend()\n",
    "plt.show()"
   ]
  },
  {
   "cell_type": "code",
   "execution_count": null,
   "id": "4990ff67",
   "metadata": {},
   "outputs": [],
   "source": []
  },
  {
   "cell_type": "code",
   "execution_count": null,
   "id": "2beb089d",
   "metadata": {},
   "outputs": [],
   "source": []
  }
 ],
 "metadata": {
  "kernelspec": {
   "display_name": "Python 3",
   "language": "python",
   "name": "python3"
  },
  "language_info": {
   "codemirror_mode": {
    "name": "ipython",
    "version": 3
   },
   "file_extension": ".py",
   "mimetype": "text/x-python",
   "name": "python",
   "nbconvert_exporter": "python",
   "pygments_lexer": "ipython3",
   "version": "3.8.8"
  }
 },
 "nbformat": 4,
 "nbformat_minor": 5
}
